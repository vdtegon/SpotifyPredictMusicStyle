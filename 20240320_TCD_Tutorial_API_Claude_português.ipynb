{
  "cells": [
    {
      "cell_type": "markdown",
      "metadata": {
        "id": "view-in-github",
        "colab_type": "text"
      },
      "source": [
        "<a href=\"https://colab.research.google.com/github/vdtegon/SpotifyPredictMusicStyle/blob/main/20240320_TCD_Tutorial_API_Claude_portugu%C3%AAs.ipynb\" target=\"_parent\"><img src=\"https://colab.research.google.com/assets/colab-badge.svg\" alt=\"Open In Colab\"/></a>"
      ]
    },
    {
      "cell_type": "markdown",
      "source": [
        "<img src=\"https://github.com/Trading-com-Dados/resources/blob/main/TCD%20LOGO%20001%20-%20PRETO.png?raw=true\" width=\"200\"/>"
      ],
      "metadata": {
        "id": "r38EK5TMEppk"
      }
    },
    {
      "cell_type": "markdown",
      "source": [
        "# **Resumo de PDF usando IA - Tutorial com Anthropic Claude**\n",
        "\n",
        "Bem-vindo a este tutorial, onde extrairemos texto de um arquivo PDF e o resumiremos usando um modelo de IA da Anthropic. Este método é útil para resumir documentos longos de forma eficiente."
      ],
      "metadata": {
        "id": "JKqi9TUTeVof"
      }
    },
    {
      "cell_type": "markdown",
      "source": [
        "## **Etapa 1: Instale as bibliotecas necessárias**"
      ],
      "metadata": {
        "id": "fF8AJD3X_3Fk"
      }
    },
    {
      "cell_type": "code",
      "source": [
        "!pip install pymupdf --upgrade"
      ],
      "metadata": {
        "id": "lRFBdM6HeoOe",
        "colab": {
          "base_uri": "https://localhost:8080/"
        },
        "outputId": "7e090c66-8c33-4bed-e319-cbda872e4f06"
      },
      "execution_count": null,
      "outputs": [
        {
          "output_type": "stream",
          "name": "stdout",
          "text": [
            "Collecting pymupdf\n",
            "  Downloading pymupdf-1.25.4-cp39-abi3-manylinux2014_x86_64.manylinux_2_17_x86_64.whl.metadata (3.4 kB)\n",
            "Downloading pymupdf-1.25.4-cp39-abi3-manylinux2014_x86_64.manylinux_2_17_x86_64.whl (20.0 MB)\n",
            "\u001b[2K   \u001b[90m━━━━━━━━━━━━━━━━━━━━━━━━━━━━━━━━━━━━━━━━\u001b[0m \u001b[32m20.0/20.0 MB\u001b[0m \u001b[31m66.9 MB/s\u001b[0m eta \u001b[36m0:00:00\u001b[0m\n",
            "\u001b[?25hInstalling collected packages: pymupdf\n",
            "Successfully installed pymupdf-1.25.4\n"
          ]
        }
      ]
    },
    {
      "cell_type": "markdown",
      "source": [
        "## **Etapa 2: Importar bibliotecas necessárias**"
      ],
      "metadata": {
        "id": "QnKWS6o5esk-"
      }
    },
    {
      "cell_type": "code",
      "source": [
        "import pymupdf as pp\n",
        "import requests\n",
        "import json"
      ],
      "metadata": {
        "id": "NWo6S1FGexam"
      },
      "execution_count": null,
      "outputs": []
    },
    {
      "cell_type": "markdown",
      "source": [
        "## **Etapa 3: Configurar a chave da API do Claude**\n",
        "\n",
        "Acesse https://console.anthropic.com/ e crie sua chave de API"
      ],
      "metadata": {
        "id": "v2MF0VM4e0Ye"
      }
    },
    {
      "cell_type": "code",
      "source": [
        "# Substitua pela sua chave de API do Claude 3\n",
        "ANTHROPIC_API_KEY = \"SUA CHAVE AQUI\""
      ],
      "metadata": {
        "id": "tTPTZDAte3nz"
      },
      "execution_count": null,
      "outputs": []
    },
    {
      "cell_type": "markdown",
      "source": [
        "## **Etapa 4: Função para extrair texto de PDF**"
      ],
      "metadata": {
        "id": "WeP6iKwde5Ha"
      }
    },
    {
      "cell_type": "code",
      "source": [
        "# Função para extrair texto de um PDF\n",
        "def extract_text_from_pdf(pdf_path):\n",
        "    doc = pp.open(pdf_path)\n",
        "    text = \"\"\n",
        "    for page in doc:\n",
        "        text += page.get_text(\"text\") + \"\\n\"\n",
        "    return text"
      ],
      "metadata": {
        "id": "ADBuCo6GP8ku"
      },
      "execution_count": null,
      "outputs": []
    },
    {
      "cell_type": "markdown",
      "source": [
        "## **Etapa 5: Função para resumir texto usando IA**\n",
        "\n",
        "Usaremos `claude-3-opus-20240229`, um modelo pré-treinado otimizado para resumo de texto.\n",
        "\n",
        "🔹 Claude 3 Opus (Anthropic) - Melhor para PDFs grandes\n",
        "\n",
        "Prós: Lida com documentos muito grandes melhor do que o GPT-4.\n",
        "\n",
        "Caso de uso: resumir relatórios longos, contratos e responder a perguntas detalhadas."
      ],
      "metadata": {
        "id": "OTuWj2xje-hY"
      }
    },
    {
      "cell_type": "code",
      "source": [
        "# Função para resumir texto usando a API Claude 3\n",
        "def summarize_with_claude(text):\n",
        "    api_url = \"https://api.anthropic.com/v1/messages\"\n",
        "    headers = {\n",
        "        \"x-api-key\": ANTHROPIC_API_KEY,\n",
        "        \"anthropic-version\": \"2023-06-01\",\n",
        "        \"content-type\": \"application/json\"\n",
        "    }\n",
        "\n",
        "# Solicitar que Claude 3 resuma o texto do PDF\n",
        "    prompt = f\"Summarize the following document and highlight the 3 most important insights:\\n\\n{text[:6000]}\"  # Limiting to 5000 chars\n",
        "\n",
        "    payload = {\n",
        "        \"model\": \"claude-3-opus-20240229\",  # Use 'claude-3-sonnet' para resultados mais rápidos\n",
        "        \"max_tokens\": 400,\n",
        "        \"messages\": [{\"role\": \"user\", \"content\": prompt}]\n",
        "    }\n",
        "\n",
        "    response = requests.post(api_url, headers=headers, json=payload)\n",
        "\n",
        "    if response.status_code == 200:\n",
        "        result = response.json()\n",
        "        return result[\"content\"][0][\"text\"]\n",
        "    else:\n",
        "        return f\"Error: {response.text}\""
      ],
      "metadata": {
        "id": "RDyP0-DfQlL4"
      },
      "execution_count": null,
      "outputs": []
    },
    {
      "cell_type": "markdown",
      "source": [
        "## **Etapa 6: Carregue um arquivo PDF**\n",
        "\n",
        "Agora carregaremos um **arquivo PDF** da nossa máquina local."
      ],
      "metadata": {
        "id": "h8s0cgnAfX-P"
      }
    },
    {
      "cell_type": "code",
      "source": [
        "# Carregar um arquivo PDF\n",
        "from google.colab import files\n",
        "uploaded = files.upload()\n",
        "pdf_path = list(uploaded.keys())[0]"
      ],
      "metadata": {
        "colab": {
          "base_uri": "https://localhost:8080/",
          "height": 73
        },
        "id": "x9z0b9GsQpfn",
        "outputId": "67c211ed-a214-44ee-ea16-e1673e8fbd57"
      },
      "execution_count": null,
      "outputs": [
        {
          "output_type": "display_data",
          "data": {
            "text/plain": [
              "<IPython.core.display.HTML object>"
            ],
            "text/html": [
              "\n",
              "     <input type=\"file\" id=\"files-24fe5b5d-9257-434e-b2f0-b5722f180217\" name=\"files[]\" multiple disabled\n",
              "        style=\"border:none\" />\n",
              "     <output id=\"result-24fe5b5d-9257-434e-b2f0-b5722f180217\">\n",
              "      Upload widget is only available when the cell has been executed in the\n",
              "      current browser session. Please rerun this cell to enable.\n",
              "      </output>\n",
              "      <script>// Copyright 2017 Google LLC\n",
              "//\n",
              "// Licensed under the Apache License, Version 2.0 (the \"License\");\n",
              "// you may not use this file except in compliance with the License.\n",
              "// You may obtain a copy of the License at\n",
              "//\n",
              "//      http://www.apache.org/licenses/LICENSE-2.0\n",
              "//\n",
              "// Unless required by applicable law or agreed to in writing, software\n",
              "// distributed under the License is distributed on an \"AS IS\" BASIS,\n",
              "// WITHOUT WARRANTIES OR CONDITIONS OF ANY KIND, either express or implied.\n",
              "// See the License for the specific language governing permissions and\n",
              "// limitations under the License.\n",
              "\n",
              "/**\n",
              " * @fileoverview Helpers for google.colab Python module.\n",
              " */\n",
              "(function(scope) {\n",
              "function span(text, styleAttributes = {}) {\n",
              "  const element = document.createElement('span');\n",
              "  element.textContent = text;\n",
              "  for (const key of Object.keys(styleAttributes)) {\n",
              "    element.style[key] = styleAttributes[key];\n",
              "  }\n",
              "  return element;\n",
              "}\n",
              "\n",
              "// Max number of bytes which will be uploaded at a time.\n",
              "const MAX_PAYLOAD_SIZE = 100 * 1024;\n",
              "\n",
              "function _uploadFiles(inputId, outputId) {\n",
              "  const steps = uploadFilesStep(inputId, outputId);\n",
              "  const outputElement = document.getElementById(outputId);\n",
              "  // Cache steps on the outputElement to make it available for the next call\n",
              "  // to uploadFilesContinue from Python.\n",
              "  outputElement.steps = steps;\n",
              "\n",
              "  return _uploadFilesContinue(outputId);\n",
              "}\n",
              "\n",
              "// This is roughly an async generator (not supported in the browser yet),\n",
              "// where there are multiple asynchronous steps and the Python side is going\n",
              "// to poll for completion of each step.\n",
              "// This uses a Promise to block the python side on completion of each step,\n",
              "// then passes the result of the previous step as the input to the next step.\n",
              "function _uploadFilesContinue(outputId) {\n",
              "  const outputElement = document.getElementById(outputId);\n",
              "  const steps = outputElement.steps;\n",
              "\n",
              "  const next = steps.next(outputElement.lastPromiseValue);\n",
              "  return Promise.resolve(next.value.promise).then((value) => {\n",
              "    // Cache the last promise value to make it available to the next\n",
              "    // step of the generator.\n",
              "    outputElement.lastPromiseValue = value;\n",
              "    return next.value.response;\n",
              "  });\n",
              "}\n",
              "\n",
              "/**\n",
              " * Generator function which is called between each async step of the upload\n",
              " * process.\n",
              " * @param {string} inputId Element ID of the input file picker element.\n",
              " * @param {string} outputId Element ID of the output display.\n",
              " * @return {!Iterable<!Object>} Iterable of next steps.\n",
              " */\n",
              "function* uploadFilesStep(inputId, outputId) {\n",
              "  const inputElement = document.getElementById(inputId);\n",
              "  inputElement.disabled = false;\n",
              "\n",
              "  const outputElement = document.getElementById(outputId);\n",
              "  outputElement.innerHTML = '';\n",
              "\n",
              "  const pickedPromise = new Promise((resolve) => {\n",
              "    inputElement.addEventListener('change', (e) => {\n",
              "      resolve(e.target.files);\n",
              "    });\n",
              "  });\n",
              "\n",
              "  const cancel = document.createElement('button');\n",
              "  inputElement.parentElement.appendChild(cancel);\n",
              "  cancel.textContent = 'Cancel upload';\n",
              "  const cancelPromise = new Promise((resolve) => {\n",
              "    cancel.onclick = () => {\n",
              "      resolve(null);\n",
              "    };\n",
              "  });\n",
              "\n",
              "  // Wait for the user to pick the files.\n",
              "  const files = yield {\n",
              "    promise: Promise.race([pickedPromise, cancelPromise]),\n",
              "    response: {\n",
              "      action: 'starting',\n",
              "    }\n",
              "  };\n",
              "\n",
              "  cancel.remove();\n",
              "\n",
              "  // Disable the input element since further picks are not allowed.\n",
              "  inputElement.disabled = true;\n",
              "\n",
              "  if (!files) {\n",
              "    return {\n",
              "      response: {\n",
              "        action: 'complete',\n",
              "      }\n",
              "    };\n",
              "  }\n",
              "\n",
              "  for (const file of files) {\n",
              "    const li = document.createElement('li');\n",
              "    li.append(span(file.name, {fontWeight: 'bold'}));\n",
              "    li.append(span(\n",
              "        `(${file.type || 'n/a'}) - ${file.size} bytes, ` +\n",
              "        `last modified: ${\n",
              "            file.lastModifiedDate ? file.lastModifiedDate.toLocaleDateString() :\n",
              "                                    'n/a'} - `));\n",
              "    const percent = span('0% done');\n",
              "    li.appendChild(percent);\n",
              "\n",
              "    outputElement.appendChild(li);\n",
              "\n",
              "    const fileDataPromise = new Promise((resolve) => {\n",
              "      const reader = new FileReader();\n",
              "      reader.onload = (e) => {\n",
              "        resolve(e.target.result);\n",
              "      };\n",
              "      reader.readAsArrayBuffer(file);\n",
              "    });\n",
              "    // Wait for the data to be ready.\n",
              "    let fileData = yield {\n",
              "      promise: fileDataPromise,\n",
              "      response: {\n",
              "        action: 'continue',\n",
              "      }\n",
              "    };\n",
              "\n",
              "    // Use a chunked sending to avoid message size limits. See b/62115660.\n",
              "    let position = 0;\n",
              "    do {\n",
              "      const length = Math.min(fileData.byteLength - position, MAX_PAYLOAD_SIZE);\n",
              "      const chunk = new Uint8Array(fileData, position, length);\n",
              "      position += length;\n",
              "\n",
              "      const base64 = btoa(String.fromCharCode.apply(null, chunk));\n",
              "      yield {\n",
              "        response: {\n",
              "          action: 'append',\n",
              "          file: file.name,\n",
              "          data: base64,\n",
              "        },\n",
              "      };\n",
              "\n",
              "      let percentDone = fileData.byteLength === 0 ?\n",
              "          100 :\n",
              "          Math.round((position / fileData.byteLength) * 100);\n",
              "      percent.textContent = `${percentDone}% done`;\n",
              "\n",
              "    } while (position < fileData.byteLength);\n",
              "  }\n",
              "\n",
              "  // All done.\n",
              "  yield {\n",
              "    response: {\n",
              "      action: 'complete',\n",
              "    }\n",
              "  };\n",
              "}\n",
              "\n",
              "scope.google = scope.google || {};\n",
              "scope.google.colab = scope.google.colab || {};\n",
              "scope.google.colab._files = {\n",
              "  _uploadFiles,\n",
              "  _uploadFilesContinue,\n",
              "};\n",
              "})(self);\n",
              "</script> "
            ]
          },
          "metadata": {}
        },
        {
          "output_type": "stream",
          "name": "stdout",
          "text": [
            "Saving Meta-Reports-Fourth-Quarter-and-Full-Year-2024-Results-2025.pdf to Meta-Reports-Fourth-Quarter-and-Full-Year-2024-Results-2025.pdf\n"
          ]
        }
      ]
    },
    {
      "cell_type": "markdown",
      "source": [
        "## **Etapa 7: Extrair e resumir o conteúdo do PDF**\n",
        "\n",
        "Agora, extraímos o texto do PDF carregado e o resumimos usando IA."
      ],
      "metadata": {
        "id": "HaS0IowXfcvx"
      }
    },
    {
      "cell_type": "code",
      "source": [
        "extracted_text = extract_text_from_pdf(pdf_path)\n",
        "summary = summarize_with_claude(extracted_text)"
      ],
      "metadata": {
        "colab": {
          "base_uri": "https://localhost:8080/"
        },
        "id": "LMDPIf7nP7Lw",
        "outputId": "d7669a4a-4d27-4dba-8ed2-6e10df7ac526"
      },
      "execution_count": null,
      "outputs": [
        {
          "output_type": "stream",
          "name": "stdout",
          "text": [
            "\n",
            "--- Summary of the PDF ---\n",
            "\n",
            "Summary:\n",
            "Meta Platforms, Inc. reported strong financial results for the fourth quarter and full year 2024, with revenue growth of 21% and 22% year-over-year, respectively. The company continues to make progress on AI, glasses, and the future of social media. Meta expects to invest heavily in infrastructure, employee compensation, and capital expenditures in 2025 to support its core business and generative AI efforts.\n",
            "\n",
            "Three most important insights:\n",
            "1. Meta's revenue growth remained strong, with 21% and 22% year-over-year increases for the fourth quarter and full year 2024, respectively, driven by increases in ad impressions and average price per ad.\n",
            "\n",
            "2. The company plans to invest significantly in 2025, with total expenses expected to be in the range of $114-119 billion. The majority of the expense growth will be driven by infrastructure costs and employee compensation, particularly in the areas of infrastructure, monetization, Reality Labs, generative AI, and regulation and compliance.\n",
            "\n",
            "3. Meta anticipates capital expenditures to be in the range of $60-65 billion in 2025, with the majority directed towards its core business. The company also expects to benefit from a change in the estimated useful life of certain servers and network assets, which will reduce its full year 2025 depreciation expense by approximately $2.9 billion.\n"
          ]
        }
      ]
    },
    {
      "cell_type": "code",
      "source": [
        "import textwrap\n",
        "wrapped_summary = textwrap.fill(summary, width=60)  # Quebrar texto em 60 caracteres por linha\n",
        "print(wrapped_summary)"
      ],
      "metadata": {
        "colab": {
          "base_uri": "https://localhost:8080/"
        },
        "id": "DZhH1elQgNPm",
        "outputId": "805177db-548f-45e7-a4b7-d9015f5db18e"
      },
      "execution_count": null,
      "outputs": [
        {
          "output_type": "stream",
          "name": "stdout",
          "text": [
            "Summary: Meta Platforms, Inc. reported strong financial\n",
            "results for the fourth quarter and full year 2024, with\n",
            "revenue growth of 21% and 22% year-over-year, respectively.\n",
            "The company continues to make progress on AI, glasses, and\n",
            "the future of social media. Meta expects to invest heavily\n",
            "in infrastructure, employee compensation, and capital\n",
            "expenditures in 2025 to support its core business and\n",
            "generative AI efforts.  Three most important insights: 1.\n",
            "Meta's revenue growth remained strong, with 21% and 22%\n",
            "year-over-year increases for the fourth quarter and full\n",
            "year 2024, respectively, driven by increases in ad\n",
            "impressions and average price per ad.  2. The company plans\n",
            "to invest significantly in 2025, with total expenses\n",
            "expected to be in the range of $114-119 billion. The\n",
            "majority of the expense growth will be driven by\n",
            "infrastructure costs and employee compensation, particularly\n",
            "in the areas of infrastructure, monetization, Reality Labs,\n",
            "generative AI, and regulation and compliance.  3. Meta\n",
            "anticipates capital expenditures to be in the range of\n",
            "$60-65 billion in 2025, with the majority directed towards\n",
            "its core business. The company also expects to benefit from\n",
            "a change in the estimated useful life of certain servers and\n",
            "network assets, which will reduce its full year 2025\n",
            "depreciation expense by approximately $2.9 billion.\n"
          ]
        }
      ]
    },
    {
      "cell_type": "code",
      "source": [],
      "metadata": {
        "id": "BBOMYO9ygXkX"
      },
      "execution_count": null,
      "outputs": []
    }
  ],
  "metadata": {
    "kernelspec": {
      "display_name": "Python 3",
      "language": "python",
      "name": "python3"
    },
    "language_info": {
      "name": "python",
      "version": "3.x"
    },
    "colab": {
      "provenance": [],
      "include_colab_link": true
    }
  },
  "nbformat": 4,
  "nbformat_minor": 0
}